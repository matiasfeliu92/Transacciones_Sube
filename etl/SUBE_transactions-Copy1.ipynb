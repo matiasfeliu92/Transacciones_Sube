{
 "cells": [
  {
   "cell_type": "code",
   "execution_count": 41,
   "id": "a04fa3b8",
   "metadata": {},
   "outputs": [],
   "source": [
    "%load_ext dotenv\n",
    "%dotenv"
   ]
  },
  {
   "cell_type": "code",
   "execution_count": 42,
   "id": "9969ce59",
   "metadata": {},
   "outputs": [],
   "source": [
    "import requests\n",
    "import pandas as pd\n",
    "from bs4 import BeautifulSoup\n",
    "import psycopg2\n",
    "from sqlalchemy import create_engine\n",
    "import datetime\n",
    "import os"
   ]
  },
  {
   "cell_type": "code",
   "execution_count": 43,
   "id": "63545174",
   "metadata": {},
   "outputs": [],
   "source": [
    "database_url = os.getenv('DATABASE_URL')\n",
    "engine = create_engine(database_url)"
   ]
  },
  {
   "cell_type": "code",
   "execution_count": 44,
   "id": "933e7e9d",
   "metadata": {},
   "outputs": [],
   "source": [
    "url = 'https://datos.gob.ar/dataset/transporte-sube---cantidad-transacciones-usos-por-fecha'"
   ]
  },
  {
   "cell_type": "code",
   "execution_count": 45,
   "id": "144e42f1",
   "metadata": {},
   "outputs": [],
   "source": [
    "def agregar_anio_mes(row):\n",
    "    fecha = row['DIA_TRANSPORTE']\n",
    "    anio, mes, _ = fecha.split(\"-\")\n",
    "    periodo = anio+\"-\"+mes\n",
    "    return anio, mes, periodo"
   ]
  },
  {
   "cell_type": "code",
   "execution_count": 46,
   "id": "4211642a",
   "metadata": {},
   "outputs": [
    {
     "name": "stdout",
     "output_type": "stream",
     "text": [
      "Fecha y hora actual: 2023-10-28 12:18:44\n"
     ]
    }
   ],
   "source": [
    "fecha_hora_actual = datetime.datetime.now()\n",
    "fecha_hora_formateada = fecha_hora_actual.strftime(\"%Y-%m-%d %H:%M:%S\")\n",
    "print(\"Fecha y hora actual:\", fecha_hora_formateada)"
   ]
  },
  {
   "cell_type": "code",
   "execution_count": 47,
   "id": "77483718",
   "metadata": {},
   "outputs": [
    {
     "name": "stdout",
     "output_type": "stream",
     "text": [
      "https://archivos-datos.transporte.gob.ar/upload/Dat_Ab_Usos/dat-ab-usos-2023.csv\n",
      "Tabla Transacciones_SUBE_2023 subida correctamente\n",
      "https://archivos-datos.transporte.gob.ar/upload/Dat_Ab_Usos/dat-ab-usos-2022.csv\n",
      "Tabla Transacciones_SUBE_2022 subida correctamente\n",
      "https://archivos-datos.transporte.gob.ar/upload/Dat_Ab_Usos/dat-ab-usos-2021.csv\n",
      "Tabla Transacciones_SUBE_2021 subida correctamente\n",
      "https://archivos-datos.transporte.gob.ar/upload/Dat_Ab_Usos/dat-ab-usos-2020.csv\n",
      "Tabla Transacciones_SUBE_2020 subida correctamente\n"
     ]
    }
   ],
   "source": [
    "response = requests.get(url)\n",
    "if response.status_code == 200:\n",
    "    soup = BeautifulSoup(response.text, 'html.parser')\n",
    "    links = soup.select(\".pkg-container .pkg-actions a\")\n",
    "    for link in links:\n",
    "        href = link.get('href')\n",
    "        if href and '/dataset/transporte' not in href:\n",
    "            print(href)\n",
    "            df = pd.read_csv(href)\n",
    "            df['Anio'], df['Mes'], df['Periodo'] = zip(*df.apply(agregar_anio_mes, axis=1))\n",
    "            df.rename(columns={\n",
    "                'DIA_TRANSPORTE': 'Fecha Viaje',\n",
    "                'NOMBRE_EMPRESA': 'Nombre Empresa',\n",
    "                'LINEA': 'Linea',\n",
    "                'AMBA': 'Amba',\n",
    "                'TIPO_TRANSPORTE': 'Tipo Transporte',\n",
    "                'JURISDICCION': 'Jurisdiccion',\n",
    "                'PROVINCIA': 'Provincia',\n",
    "                'MUNICIPIO': 'Municipio',\n",
    "                'CANTIDAD': 'Cantidad',\n",
    "                'DATO_PRELIMINAR': 'Dato Preliminar'\n",
    "            }, inplace=True)\n",
    "            anio = href[-8:-4]\n",
    "            df.to_sql(f'Transacciones_SUBE_{anio}', engine, if_exists='replace', index=False)\n",
    "            print(f'Tabla Transacciones_SUBE_{anio} subida correctamente')\n",
    "else:\n",
    "    print(\"This page could not be accessed::\", response.status_code)"
   ]
  },
  {
   "cell_type": "code",
   "execution_count": 48,
   "id": "a7a84f0a",
   "metadata": {},
   "outputs": [
    {
     "name": "stdout",
     "output_type": "stream",
     "text": [
      "Fecha y hora actual: 2023-10-28 12:31:20\n"
     ]
    }
   ],
   "source": [
    "fecha_hora_actual = datetime.datetime.now()\n",
    "fecha_hora_formateada = fecha_hora_actual.strftime(\"%Y-%m-%d %H:%M:%S\")\n",
    "print(\"Fecha y hora actual:\", fecha_hora_formateada)"
   ]
  },
  {
   "cell_type": "code",
   "execution_count": null,
   "id": "95b83fa8",
   "metadata": {},
   "outputs": [],
   "source": []
  }
 ],
 "metadata": {
  "kernelspec": {
   "display_name": "Python 3 (ipykernel)",
   "language": "python",
   "name": "python3"
  },
  "language_info": {
   "codemirror_mode": {
    "name": "ipython",
    "version": 3
   },
   "file_extension": ".py",
   "mimetype": "text/x-python",
   "name": "python",
   "nbconvert_exporter": "python",
   "pygments_lexer": "ipython3",
   "version": "3.8.18"
  }
 },
 "nbformat": 4,
 "nbformat_minor": 5
}
